{
 "cells": [
  {
   "cell_type": "code",
   "execution_count": 1,
   "id": "d88a5e7e",
   "metadata": {},
   "outputs": [],
   "source": [
    "from tqdm import tqdm\n",
    "import csv\n",
    "import re\n",
    "import requests\n",
    "import json\n",
    "import pandas as pd\n",
    "import random"
   ]
  },
  {
   "cell_type": "code",
   "execution_count": 6,
   "id": "20f030ae",
   "metadata": {},
   "outputs": [],
   "source": [
    "def crawl_wiki(endpoint, url):\n",
    "  # Define the Wikipedia API endpoint and parameters\n",
    "  params = {\n",
    "      'action': 'query',\n",
    "      'prop': 'extracts',\n",
    "      'format': 'json',\n",
    "      'titles': '',\n",
    "      'redirects': '1',\n",
    "  }\n",
    "\n",
    "  # Retrieve the Wikipedia article and extract a random sentence\n",
    "  params['titles'] = url.split('/')[-1].replace('_', ' ')\n",
    "  response = requests.get(endpoint, params=params)\n",
    "  data = json.loads(response.text)\n",
    "  page = list(data['query']['pages'].values())[0]\n",
    "  if('extract' not in page): \n",
    "    return\n",
    "  extract = re.sub(re.compile('<.*?>'), '', page['extract'])\n",
    "  sentences = extract.split('.')\n",
    "  valid_sentences = [s.strip() for s in sentences if len(s.split()) >= 5 and len(s.split()) < 12 ]\n",
    "  if (len(valid_sentences)):\n",
    "    random_sentence = random.choice(valid_sentences)\n",
    "    return random_sentence"
   ]
  },
  {
   "cell_type": "code",
   "execution_count": 9,
   "id": "1f90e9de",
   "metadata": {},
   "outputs": [
    {
     "name": "stdout",
     "output_type": "stream",
     "text": [
      "(100000, 5)\n",
      "https://simple.wikipedia.org/wiki/Antarctica\n",
      "The first known polar sighting of the continent was in 1820\n"
     ]
    },
    {
     "name": "stderr",
     "output_type": "stream",
     "text": [
      "100%|████████████████████████████████████████████████████████████████████████| 100000/100000 [4:46:36<00:00,  5.82it/s]"
     ]
    },
    {
     "name": "stdout",
     "output_type": "stream",
     "text": [
      "['Antarctica was mostly forgotten for the rest of the 19th century', 'Bakelite was formed in 1907–1909 by Leo Baekeland', \"It is the world's fifth largest country\", 'Hard drives can also contain secret information like credit card numbers', 'They were originally bred from wolves']\n"
     ]
    },
    {
     "name": "stderr",
     "output_type": "stream",
     "text": [
      "\n"
     ]
    }
   ],
   "source": [
    "df = pd.read_csv(\"./wiki/wiki_simple.csv\")\n",
    "print(df.shape)\n",
    "print(df['articleSimple'].iloc[0])\n",
    "print(crawl_wiki('https://simple.wikipedia.org/w/api.php', df['articleSimple'].iloc[0]))\n",
    "simple_sentences = []\n",
    "\n",
    "for url in tqdm(df.articleSimple.values):\n",
    "  s = crawl_wiki('https://simple.wikipedia.org/w/api.php', url)\n",
    "  if s:\n",
    "    simple_sentences.append(s)\n",
    "    \n",
    "print(simple_sentences[0:5])"
   ]
  },
  {
   "cell_type": "code",
   "execution_count": 31,
   "id": "8873358d",
   "metadata": {},
   "outputs": [
    {
     "name": "stderr",
     "output_type": "stream",
     "text": [
      "100%|████████████████████████████████████████████████████████████████████████| 64040/64040 [00:00<00:00, 378123.75it/s]\n"
     ]
    }
   ],
   "source": [
    "# with open('train/simple.csv', 'w', newline='') as file:\n",
    "#     writer = csv.writer(file)\n",
    "#     for item in tqdm(simple_sentences):\n",
    "#         ascii_string = item.encode('ascii', 'ignore').decode('ascii')\n",
    "#         writer.writerow([ascii_string])"
   ]
  },
  {
   "cell_type": "code",
   "execution_count": 30,
   "id": "23cc8f50",
   "metadata": {},
   "outputs": [
    {
     "name": "stdout",
     "output_type": "stream",
     "text": [
      "Birobidzhan (Russian: ; Yiddish: ) is a town in Russia\n"
     ]
    }
   ],
   "source": [
    "print(simple_sentences[330].encode('ascii', 'ignore').decode('ascii'))"
   ]
  },
  {
   "cell_type": "code",
   "execution_count": 34,
   "id": "1343c42b",
   "metadata": {},
   "outputs": [
    {
     "name": "stdout",
     "output_type": "stream",
     "text": [
      "(100000, 2)\n",
      "https://en.wikipedia.org/wiki/Antarctica\n",
      "The few terrestrial vertebrates are limited to the sub-Antarctic islands\n"
     ]
    },
    {
     "name": "stderr",
     "output_type": "stream",
     "text": [
      "100%|████████████████████████████████████████████████████████████████████████| 100000/100000 [5:24:08<00:00,  5.14it/s]\n"
     ]
    },
    {
     "name": "stdout",
     "output_type": "stream",
     "text": [
      "['International Law Issues in the South Pacific', 'By October 2010, this had grown to 8', 'Minority languages are spoken throughout the nation', 'The name Zhongguo is also translated as \"Middle Kingdom\" in English', 'Changing its function required the re-wiring and re-structuring of the machine']\n"
     ]
    }
   ],
   "source": [
    "df = pd.read_csv(\"./wiki/wiki_advanced.csv\")\n",
    "print(df.shape)\n",
    "print(df['article'].iloc[0])\n",
    "print(crawl_wiki('https://en.wikipedia.org/w/api.php', df['article'].iloc[0]))\n",
    "ad_sentences = []\n",
    "\n",
    "for url in tqdm(df.article.values):\n",
    "  s = crawl_wiki('https://en.wikipedia.org/w/api.php', url)\n",
    "  if s:\n",
    "    ad_sentences.append(s)\n",
    "    \n",
    "print(ad_sentences[0:5])"
   ]
  },
  {
   "cell_type": "code",
   "execution_count": 35,
   "id": "7ee66c2b",
   "metadata": {},
   "outputs": [
    {
     "data": {
      "text/plain": [
       "74780"
      ]
     },
     "execution_count": 35,
     "metadata": {},
     "output_type": "execute_result"
    }
   ],
   "source": [
    "len(ad_sentences)"
   ]
  },
  {
   "cell_type": "code",
   "execution_count": 36,
   "id": "4a4cb9c3",
   "metadata": {},
   "outputs": [
    {
     "name": "stderr",
     "output_type": "stream",
     "text": [
      "100%|████████████████████████████████████████████████████████████████████████| 74780/74780 [00:00<00:00, 195762.11it/s]\n"
     ]
    }
   ],
   "source": [
    "with open('train/advanced.csv', 'w', newline='') as file:\n",
    "    writer = csv.writer(file)\n",
    "    for item in tqdm(ad_sentences):\n",
    "        ascii_string = item.encode('ascii', 'ignore').decode('ascii')\n",
    "        writer.writerow([ascii_string])"
   ]
  },
  {
   "cell_type": "code",
   "execution_count": null,
   "id": "1ca93611",
   "metadata": {},
   "outputs": [],
   "source": []
  }
 ],
 "metadata": {
  "kernelspec": {
   "display_name": "Python 3 (ipykernel)",
   "language": "python",
   "name": "python3"
  },
  "language_info": {
   "codemirror_mode": {
    "name": "ipython",
    "version": 3
   },
   "file_extension": ".py",
   "mimetype": "text/x-python",
   "name": "python",
   "nbconvert_exporter": "python",
   "pygments_lexer": "ipython3",
   "version": "3.8.10"
  }
 },
 "nbformat": 4,
 "nbformat_minor": 5
}
